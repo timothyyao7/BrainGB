{
 "cells": [
  {
   "cell_type": "markdown",
   "id": "737aa721",
   "metadata": {},
   "source": [
    "11/12 training on subcortical regions\n",
    "seed: 849766\n",
    "\n",
    "(K Fold Final Result)| avg_acc=62.14 +-  2.59, avg_auc=69.47 +- 4.32, avg_macro=61.62 +- 2.05"
   ]
  },
  {
   "cell_type": "markdown",
   "id": "3fad2e31",
   "metadata": {},
   "source": [
    "11/12 training on subcortical regions, seed: 965380\n",
    "\n",
    "(K Fold Final Result)| avg_acc=64.32 +-  1.07, avg_auc=69.20 +- 1.17, avg_macro=64.20 +- 1.03"
   ]
  }
 ],
 "metadata": {
  "kernelspec": {
   "display_name": "Python 3 (ipykernel)",
   "language": "python",
   "name": "python3"
  },
  "language_info": {
   "codemirror_mode": {
    "name": "ipython",
    "version": 3
   },
   "file_extension": ".py",
   "mimetype": "text/x-python",
   "name": "python",
   "nbconvert_exporter": "python",
   "pygments_lexer": "ipython3",
   "version": "3.9.18"
  }
 },
 "nbformat": 4,
 "nbformat_minor": 5
}
